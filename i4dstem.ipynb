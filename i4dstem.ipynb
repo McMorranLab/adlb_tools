{
 "cells": [
  {
   "cell_type": "code",
   "execution_count": null,
   "metadata": {},
   "outputs": [],
   "source": [
    "%matplotlib widget\n",
    "\n",
    "# base python modules\n",
    "import numpy as np\n",
    "import time\n",
    "import matplotlib.pyplot as plt\n",
    "from matplotlib.colors import LogNorm\n",
    "\n",
    "# NCEM + Molecular Foundry modules\n",
    "from stempy.io import sparse_array\n",
    "import stempy\n",
    "\n",
    "# our module\n",
    "import stemh_tools as st\n",
    "import data_selection as ds\n",
    "\n",
    "\n",
    "dataPath = '/Users/andrewducharme/Documents/Data/phillip_210524/data_scan22_th4.0_electrons.h5'\n",
    "savePath = '/Users/andrewducharme/Documents/Sparse Code/anlyzd_philipp_210524/'"
   ]
  },
  {
   "cell_type": "code",
   "execution_count": null,
   "metadata": {},
   "outputs": [],
   "source": [
    "# open 4dstem data from h5 file into stempy SparseArray format\n",
    "sa = sparse_array.SparseArray.from_hdf5(dataPath)\n",
    "sa = sa[:, :-1, :, :]  # cut off flyback frames"
   ]
  },
  {
   "cell_type": "code",
   "execution_count": null,
   "metadata": {},
   "outputs": [],
   "source": [
    "scan_row_num = sa.shape[0]  # same as scan_positions.attrs['Ny'] in hdf5 file metadata\n",
    "scan_col_num = sa.shape[1]  # same as sp.attrs['Nx'] - 1, since flyback is removed\n",
    "frame_row_num = sa.shape[2]\n",
    "frame_col_num = sa.shape[3]\n",
    "# numpy likes (# of rows, # of columns), but stempy likes (# of columns, # of rows)\n",
    "\n",
    "bf = stempy.image.create_stem_images(sa.data, 0, 35, (scan_col_num, scan_row_num), frame_dimensions=(frame_col_num, frame_row_num))[0]\n",
    "ds.quick_plot(bf)"
   ]
  },
  {
   "cell_type": "code",
   "execution_count": null,
   "metadata": {},
   "outputs": [],
   "source": [
    "# This section computes the Fourier transform of a frame where all three probes go through vacuum\n",
    "# We use the square around the 0th order as an integral kernel in the phase reconstruction loop later\n",
    "# We'll also use this computation to find the location of the Fourier peaks\n",
    "# and how large a square will be selected around first order peak, since these are the same for every frame\n",
    "\n",
    "vac_frame = sa[100, 1000] # get a frame that isn't obviously garbage\n",
    "# rep_fft = st.fftw2D(rep_frame[70:330, 40:300])\n",
    "vac_fft = st.fftw2D(vac_frame)\n",
    "\n",
    "ds.quick_plot(vac_frame)\n",
    "ds.quick_plot(vac_fft, log_norm=True)\n",
    "\n",
    "fft_peaks = st.fft_find_peaks(vac_fft, 2)  # find two highest magnitude peaks in rep_fft\n",
    "\n",
    "first_order = fft_peaks[1, 1:]  # location of first order peak\n",
    "selection_size = st.calc_box_size(fft_peaks)\n",
    "\n",
    "# create kernel\n",
    "vacuum_kernel = np.conj(vac_fft)  # Appears same as vac_fft if plotted b/c must take abs val to plot\n",
    "kernel_peak = st.grab_square_box(vacuum_kernel, selection_size)\n",
    "\n",
    "ds.quick_plot(kernel_peak, log_norm=True)"
   ]
  },
  {
   "cell_type": "code",
   "execution_count": null,
   "metadata": {},
   "outputs": [],
   "source": [
    "crop_sa = sa[:800, :800]  # create a copy of the sparse array covering the region of interest\n",
    "crop_row_num = sa.scan_shape[0]\n",
    "crop_col_num = sa.scan_shape[1]\n",
    "\n",
    "# sparse array format changed from (scan_row, scan_col, : ,:) to (scan_row * scan_col, :,:)\n",
    "rsa = sa.ravel_scans()\n",
    "\n",
    "# initialize array to store values through loop\n",
    "phaseMap = np.zeros(rsa.scan_shape[0], dtype=np.float64)\n",
    "\n",
    "start = time.time()\n",
    "\n",
    "# the forward Fourier transform is the vast majority of the work+computation time here\n",
    "for i, frame in enumerate(rsa):\n",
    "    if i % 100000 == 0:\n",
    "        print(i)\n",
    "    if not frame.any():\n",
    "        phaseMap[i] = 0\n",
    "        continue\n",
    "    \n",
    "    # working numpy code\n",
    "    # fft = np.fft.fftshift(np.fft.rfft2(frame))\n",
    "\n",
    "    # working fftw code\n",
    "    ft = st.fftw2D(frame)  # take Fourier transform of the full frame\n",
    "\n",
    "    fourier_space_peak = st.grab_square_box(ft, selection_size, first_order)  # select the area around the first peak\n",
    "\n",
    "    # phase computation\n",
    "    t_temp = np.sum(kernel_peak * fourier_space_peak)  # convolve kernel and first order peak (* multiplies elementwise)\n",
    "    phaseMap[i] = np.angle(t_temp)  # get angle of complex number t_temp in the complex plane\n",
    "\n",
    "phaseMap = phaseMap.reshape(crop_row_num, crop_col_num)\n",
    "\n",
    "end = time.time()\n",
    "\n",
    "print(\"Total time (s): \" + str(end - start))\n",
    "print(\"Per frame time (ms): \" + str((end - start) / scan_row_num / scan_col_num * 1000))\n",
    "print('1024 x 1024 time (min): ' + str((end - start) / scan_row_num / scan_col_num * 1024 * 1024 / 60))\n",
    "\n",
    "np.save(savePath + 'phase', phaseMap)"
   ]
  }
 ],
 "metadata": {
  "kernelspec": {
   "display_name": "Python 3",
   "language": "python",
   "name": "python3"
  },
  "language_info": {
   "codemirror_mode": {
    "name": "ipython",
    "version": 3
   },
   "file_extension": ".py",
   "mimetype": "text/x-python",
   "name": "python",
   "nbconvert_exporter": "python",
   "pygments_lexer": "ipython3",
   "version": "3.8.5"
  }
 },
 "nbformat": 4,
 "nbformat_minor": 4
}
