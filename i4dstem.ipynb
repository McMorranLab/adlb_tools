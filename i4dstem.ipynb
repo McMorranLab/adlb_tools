{
 "cells": [
  {
   "cell_type": "code",
   "execution_count": 6,
   "metadata": {},
   "outputs": [],
   "source": [
    "%matplotlib widget\n",
    "\n",
    "# base python modules\n",
    "import numpy as np\n",
    "import matplotlib.pyplot as plt\n",
    "from matplotlib.colors import LogNorm\n",
    "import pyfftw\n",
    "from multiprocessing import cpu_count\n",
    "from time import time\n",
    "\n",
    "# NCEM/Molecular Foundry modules\n",
    "from stempy.io import sparse_array\n",
    "from stempy.image import create_stem_images\n",
    "\n",
    "# our module\n",
    "import stemh_tools as st\n",
    "\n",
    "dataPath = '/Users/andrewducharme/Documents/Data/philipp_211004/data_scan114_th4.5_electrons.h5'\n",
    "savePath = '/Users/andrewducharme/Documents/Data/philipp_211004/STEMH Processed/'"
   ]
  },
  {
   "cell_type": "code",
   "execution_count": 18,
   "metadata": {},
   "outputs": [],
   "source": [
    "# open 4dstem data from h5 file into stempy's SparseArray format\n",
    "sa = sparse_array.SparseArray.from_hdf5(dataPath)\n",
    "sa = sa[:, :-1, :, :]  # cut off flyback frames"
   ]
  },
  {
   "cell_type": "code",
   "execution_count": 3,
   "metadata": {},
   "outputs": [
    {
     "data": {
      "application/vnd.jupyter.widget-view+json": {
       "model_id": "873d5a7a4ba84a80b6dffb99338afc42",
       "version_major": 2,
       "version_minor": 0
      },
      "text/plain": [
       "Canvas(toolbar=Toolbar(toolitems=[('Home', 'Reset original view', 'home', 'home'), ('Back', 'Back to previous …"
      ]
     },
     "metadata": {},
     "output_type": "display_data"
    },
    {
     "data": {
      "text/plain": [
       "<matplotlib.image.AxesImage at 0x7f8f917be610>"
      ]
     },
     "execution_count": 3,
     "metadata": {},
     "output_type": "execute_result"
    }
   ],
   "source": [
    "scan_row_num = sa.shape[0]  # same as scan_positions.attrs['Ny'] in hdf5 file metadata\n",
    "scan_col_num = sa.shape[1]  # same as sp.attrs['Nx'] - 1, since flyback is removed\n",
    "frame_row_num = sa.shape[2]\n",
    "frame_col_num = sa.shape[3]\n",
    "\n",
    "bf = create_stem_images(sa.data, 0, 35, scan_dimensions=(scan_col_num, scan_row_num), frame_dimensions=(frame_col_num, frame_row_num))[0]\n",
    "fig, ax = plt.subplots()\n",
    "ax.imshow(bf)"
   ]
  },
  {
   "cell_type": "code",
   "execution_count": 16,
   "metadata": {},
   "outputs": [
    {
     "data": {
      "application/vnd.jupyter.widget-view+json": {
       "model_id": "cb2cb7f8457c44f090c9534bfb9d0e1f",
       "version_major": 2,
       "version_minor": 0
      },
      "text/plain": [
       "Canvas(toolbar=Toolbar(toolitems=[('Home', 'Reset original view', 'home', 'home'), ('Back', 'Back to previous …"
      ]
     },
     "metadata": {},
     "output_type": "display_data"
    }
   ],
   "source": [
    "# This section computes the Fourier transform of a frame where all three probes go through vacuum\n",
    "# We use the square around the 0th order as an integral kernel in the phase reconstruction loop later\n",
    "# We'll also use this computation to find the location of the Fourier peaks\n",
    "# and how large a square will be selected around first order peak, since these are the same for every frame\n",
    "\n",
    "# get a frame that isn't obviously garbage. Remember stempy uses (col #, row #),\n",
    "# unlike numpy's (# of rows, # of columns) structure\n",
    "\n",
    "vac_frame = sa[100, 220]\n",
    "\n",
    "# find the first order index by computing the real fft to match what we use in the loop\n",
    "vac_rfft = np.fft.fftshift(np.fft.rfft2(vac_frame))\n",
    "\n",
    "rfft_peaks = st.fft_find_peaks(vac_rfft, 2)  # find two highest magnitude peaks in vac_rfft\n",
    "\n",
    "first_order = rfft_peaks[1, 1:]  # location of first order peak\n",
    "selection_size = st.calc_box_size(rfft_peaks) / 4 # eighth the distance between individual fft peaks\n",
    "\n",
    "# create kernel by grabbing the neighborhood of the 0th order peak. Use complete fft for symmetric kernel\n",
    "vac_fft = np.fft.fftshift(np.fft.fft2(vac_frame))\n",
    "vacuum_kernel = np.conj(vac_fft)  # Appears same as vac_fft if plotted b/c must take abs val to plot\n",
    "kernel_peak = st.grab_square_box(vacuum_kernel, selection_size)\n",
    "\n",
    "fig, (ax0, ax1) = plt.subplots(1,2, sharex=True, sharey=True)\n",
    "ax0.imshow(vac_frame)\n",
    "ax0.set_title('Vacuum Frame')\n",
    "ax1.imshow(np.abs(vac_rfft)**2, norm = LogNorm())\n",
    "ax1.set_title('FFT of Vac. Frame')\n",
    "\n",
    "fig.tight_layout()"
   ]
  },
  {
   "cell_type": "code",
   "execution_count": 19,
   "metadata": {},
   "outputs": [
    {
     "name": "stdout",
     "output_type": "stream",
     "text": [
      "0\n",
      "50000\n",
      "Total time (s): 63.351468086242676\n",
      "Per frame time (ms): 0.9666666883276775\n",
      "1024 x 1024 time (min): 16.893724822998045\n"
     ]
    },
    {
     "data": {
      "application/vnd.jupyter.widget-view+json": {
       "model_id": "a0c07d5a67f841e3a4c1150bef4cbc3b",
       "version_major": 2,
       "version_minor": 0
      },
      "text/plain": [
       "Canvas(toolbar=Toolbar(toolitems=[('Home', 'Reset original view', 'home', 'home'), ('Back', 'Back to previous …"
      ]
     },
     "metadata": {},
     "output_type": "display_data"
    },
    {
     "data": {
      "text/plain": [
       "<stempy.io.sparse_array.SparseArray at 0x7f8f799e2eb0>"
      ]
     },
     "execution_count": 19,
     "metadata": {},
     "output_type": "execute_result"
    }
   ],
   "source": [
    "# setting up pyfftw numpy interface\n",
    "pyfftw.config.NUM_THREADS = cpu_count()\n",
    "pyfftw.config.PLANNER_EFFORT = 'FFTW_ESTIMATE'\n",
    "pyfftw.interfaces.cache.enable()\n",
    "    \n",
    "input = np.empty(sa.frame_shape, dtype='float32')\n",
    "    \n",
    "# sparse array shape changed from (scan_row, scan_col, : ,:) to (scan_row * scan_col, :,:)\n",
    "rsa = sa.ravel_scans()\n",
    "\n",
    "# initialize array to store values through loop\n",
    "phaseMap = np.zeros(rsa.scan_shape[0], dtype=np.float64)\n",
    "\n",
    "start = time()\n",
    "\n",
    "# the forward Fourier transform is the vast majority of the work+computation time here\n",
    "for i, frame in enumerate(rsa):\n",
    "    if i % 50e3 == 0:\n",
    "        print(i)\n",
    "    if not frame.any():\n",
    "        phaseMap[i] = 0\n",
    "        continue\n",
    "\n",
    "    input[:] = frame\n",
    "\n",
    "    ft = pyfftw.interfaces.numpy_fft.rfft2(input)  # take Fourier transform of the full frame\n",
    "    ft = pyfftw.interfaces.numpy_fft.fftshift(ft)  # take Fourier transform of the full frame\n",
    "    \n",
    "    fourier_space_peak = st.grab_square_box(ft, selection_size, first_order)  # select the area around the first peak\n",
    "\n",
    "    # phase computation\n",
    "    t_temp = np.sum(kernel_peak * fourier_space_peak)  # integrate kernel and first order peak\n",
    "    phaseMap[i] = np.angle(t_temp)\n",
    "\n",
    "phaseMap = phaseMap.reshape(scan_row_num, scan_col_num)\n",
    "\n",
    "end = time()\n",
    "\n",
    "print(\"Total time (s): \" + str(end - start))\n",
    "print(\"Per frame time (ms): \" + str((end - start) / scan_row_num / scan_col_num * 1000))\n",
    "print('1024 x 1024 time (min): ' + str((end - start) / scan_row_num / scan_col_num * 1024 * 1024 / 60))\n",
    "\n",
    "fig, ax = plt.subplots()\n",
    "ax.imshow(phaseMap)\n",
    "\n",
    "# np.save(savePath + 'Phase', phaseMap)\n",
    "\n",
    "sa.reshape((scan_row_num, scan_col_num, frame_row_num, frame_col_num))"
   ]
  },
  {
   "cell_type": "code",
   "execution_count": null,
   "metadata": {},
   "outputs": [],
   "source": []
  }
 ],
 "metadata": {
  "kernelspec": {
   "display_name": "Python 3",
   "language": "python",
   "name": "python3"
  },
  "language_info": {
   "codemirror_mode": {
    "name": "ipython",
    "version": 3
   },
   "file_extension": ".py",
   "mimetype": "text/x-python",
   "name": "python",
   "nbconvert_exporter": "python",
   "pygments_lexer": "ipython3",
   "version": "3.8.5"
  }
 },
 "nbformat": 4,
 "nbformat_minor": 4
}
